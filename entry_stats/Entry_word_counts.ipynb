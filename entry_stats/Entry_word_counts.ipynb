{
 "cells": [
  {
   "cell_type": "markdown",
   "metadata": {},
   "source": [
    "# TO GET STARTED: Enter a mission id below and then select Cell->Run All from the menu above"
   ]
  },
  {
   "cell_type": "code",
   "execution_count": 1,
   "metadata": {},
   "outputs": [],
   "source": [
    "mission_id = 25614"
   ]
  },
  {
   "cell_type": "code",
   "execution_count": 2,
   "metadata": {},
   "outputs": [],
   "source": [
    "import numpy as np\n",
    "import os\n",
    "import pandas as pd\n",
    "import psycopg2\n",
    "import matplotlib.pyplot as plt\n",
    "from urllib.parse import urlparse\n",
    "from urllib import parse\n",
    "\n",
    "%matplotlib inline\n",
    "FOLLOWER_URL = os.environ['FOLLOWER_URL']\n",
    "                          \n",
    "def make_connection():\n",
    "    url_output = FOLLOWER_URL\n",
    "    url = urlparse(url_output)\n",
    "    conn = psycopg2.connect(\n",
    "        database=url.path[1:],\n",
    "        user=url.username,\n",
    "        password=url.password,\n",
    "        host=url.hostname\n",
    "    )\n",
    "    return conn"
   ]
  },
  {
   "cell_type": "code",
   "execution_count": 3,
   "metadata": {},
   "outputs": [
    {
     "data": {
      "text/plain": [
       "<function connection.close>"
      ]
     },
     "execution_count": 3,
     "metadata": {},
     "output_type": "execute_result"
    }
   ],
   "source": [
    "def get_response(answer, transcription, q_type):\n",
    "    if q_type in ['TextQuestion', 'TitleQuestion']:\n",
    "        return str(answer[0])\n",
    "    else:\n",
    "        if transcription is not None:\n",
    "            return str(transcription)\n",
    "        else:\n",
    "            return \"\"\n",
    "cnc = make_connection()\n",
    "\n",
    "snippets = pd.read_sql_query(\n",
    "    \"\"\"select id as snippet_id from snippets where mission_id = \"\"\"\n",
    "    + str(mission_id),\n",
    "    cnc\n",
    ")\n",
    "snippet_list = (\n",
    "    \"(\" + \",\".join([str(a) for a in snippets[\"snippet_id\"].tolist()]) + \")\"\n",
    ")\n",
    "questions = pd.read_sql_query(\n",
    "    \"\"\"select id as question_id, position + 1 as question_num, type, part_id from questions where mission_id = \"\"\"\n",
    "    + str(mission_id) + \"\"\" and type in ('TitleQuestion','TextQuestion','VideoQuestion')\"\"\"\n",
    "    ,\n",
    "    cnc\n",
    ")\n",
    "question_list = (\n",
    "    \"(\" + \",\".join([str(a) for a in questions[\"question_id\"].tolist()]) + \")\"\n",
    ")\n",
    "\n",
    "part_list = (\n",
    "    \"(\" + \",\".join([str(a) for a in questions[\"part_id\"].tolist()]) + \")\"\n",
    ")\n",
    "\n",
    "parts = pd.read_sql_query(\n",
    "    \"\"\"select id as part_id, position + 1 as part_num from parts\n",
    "    where id in \"\"\"+ part_list,\n",
    "    cnc\n",
    ")\n",
    "questions = pd.merge(questions, parts, on='part_id')\n",
    "responses = pd.read_sql_query(\n",
    "    \"\"\"select id as response_id, question_id, answers from responses where snippet_id in \"\"\"\n",
    "    + snippet_list + \"\"\" and question_id in \"\"\" + question_list,\n",
    "    cnc,\n",
    ")\n",
    "\n",
    "responses = pd.merge(responses, questions, on='question_id')\n",
    "video_response_list = (\n",
    "    \"(\" + \",\".join([\n",
    "        str(a) for a in responses[responses['type'] == 'VideoQuestion']\n",
    "        [\"response_id\"].tolist()]) \n",
    "    + \")\"\n",
    ")  \n",
    "\n",
    "transcripts = pd.read_sql_query(\n",
    "    \"\"\"select transcription, response_id from videos where\n",
    "    response_id in \"\"\"+ video_response_list,\n",
    "    cnc\n",
    ")\n",
    "responses = pd.merge(\n",
    "    responses,\n",
    "    transcripts,\n",
    "    on='response_id',\n",
    "    how ='left'\n",
    ")\n",
    "responses['response'] = responses.apply(\n",
    "    lambda row: get_response(row['answers'],row['transcription'], row['type']),\n",
    "    axis=1\n",
    ")\n",
    "responses['word_count'] = responses.apply(\n",
    "    lambda row: len(row['response'].split()),\n",
    "    axis=1\n",
    ")\n",
    "cnc.close"
   ]
  },
  {
   "cell_type": "markdown",
   "metadata": {},
   "source": [
    "# WORD COUNT STATS BY QUESTION"
   ]
  },
  {
   "cell_type": "code",
   "execution_count": 4,
   "metadata": {},
   "outputs": [
    {
     "data": {
      "text/html": [
       "<div>\n",
       "<style scoped>\n",
       "    .dataframe tbody tr th:only-of-type {\n",
       "        vertical-align: middle;\n",
       "    }\n",
       "\n",
       "    .dataframe tbody tr th {\n",
       "        vertical-align: top;\n",
       "    }\n",
       "\n",
       "    .dataframe thead th {\n",
       "        text-align: right;\n",
       "    }\n",
       "</style>\n",
       "<table border=\"1\" class=\"dataframe\">\n",
       "  <thead>\n",
       "    <tr style=\"text-align: right;\">\n",
       "      <th></th>\n",
       "      <th>part_num</th>\n",
       "      <th>question_num</th>\n",
       "      <th>mean</th>\n",
       "      <th>median</th>\n",
       "      <th>std</th>\n",
       "      <th>sum</th>\n",
       "      <th>count</th>\n",
       "    </tr>\n",
       "  </thead>\n",
       "  <tbody>\n",
       "    <tr>\n",
       "      <th>0</th>\n",
       "      <td>2</td>\n",
       "      <td>2</td>\n",
       "      <td>3.498436</td>\n",
       "      <td>3</td>\n",
       "      <td>2.089278</td>\n",
       "      <td>3355</td>\n",
       "      <td>959</td>\n",
       "    </tr>\n",
       "    <tr>\n",
       "      <th>1</th>\n",
       "      <td>2</td>\n",
       "      <td>5</td>\n",
       "      <td>138.695925</td>\n",
       "      <td>143</td>\n",
       "      <td>41.720460</td>\n",
       "      <td>132732</td>\n",
       "      <td>957</td>\n",
       "    </tr>\n",
       "    <tr>\n",
       "      <th>2</th>\n",
       "      <td>3</td>\n",
       "      <td>1</td>\n",
       "      <td>2.986152</td>\n",
       "      <td>3</td>\n",
       "      <td>1.240882</td>\n",
       "      <td>14232</td>\n",
       "      <td>4766</td>\n",
       "    </tr>\n",
       "    <tr>\n",
       "      <th>3</th>\n",
       "      <td>3</td>\n",
       "      <td>9</td>\n",
       "      <td>28.183069</td>\n",
       "      <td>22</td>\n",
       "      <td>24.589583</td>\n",
       "      <td>26633</td>\n",
       "      <td>945</td>\n",
       "    </tr>\n",
       "    <tr>\n",
       "      <th>4</th>\n",
       "      <td>4</td>\n",
       "      <td>1</td>\n",
       "      <td>2.985027</td>\n",
       "      <td>3</td>\n",
       "      <td>1.144669</td>\n",
       "      <td>2791</td>\n",
       "      <td>935</td>\n",
       "    </tr>\n",
       "    <tr>\n",
       "      <th>5</th>\n",
       "      <td>4</td>\n",
       "      <td>3</td>\n",
       "      <td>147.529412</td>\n",
       "      <td>147</td>\n",
       "      <td>43.745700</td>\n",
       "      <td>137940</td>\n",
       "      <td>935</td>\n",
       "    </tr>\n",
       "  </tbody>\n",
       "</table>\n",
       "</div>"
      ],
      "text/plain": [
       "   part_num  question_num        mean  median        std     sum  count\n",
       "0         2             2    3.498436       3   2.089278    3355    959\n",
       "1         2             5  138.695925     143  41.720460  132732    957\n",
       "2         3             1    2.986152       3   1.240882   14232   4766\n",
       "3         3             9   28.183069      22  24.589583   26633    945\n",
       "4         4             1    2.985027       3   1.144669    2791    935\n",
       "5         4             3  147.529412     147  43.745700  137940    935"
      ]
     },
     "execution_count": 4,
     "metadata": {},
     "output_type": "execute_result"
    }
   ],
   "source": [
    "responses.groupby(['part_num','question_num'])['word_count'].agg(['mean','median','std','sum','count']).reset_index()"
   ]
  },
  {
   "cell_type": "markdown",
   "metadata": {},
   "source": [
    "# WOUNT COUNT STATS BY PART"
   ]
  },
  {
   "cell_type": "code",
   "execution_count": 5,
   "metadata": {},
   "outputs": [
    {
     "data": {
      "text/html": [
       "<div>\n",
       "<style scoped>\n",
       "    .dataframe tbody tr th:only-of-type {\n",
       "        vertical-align: middle;\n",
       "    }\n",
       "\n",
       "    .dataframe tbody tr th {\n",
       "        vertical-align: top;\n",
       "    }\n",
       "\n",
       "    .dataframe thead th {\n",
       "        text-align: right;\n",
       "    }\n",
       "</style>\n",
       "<table border=\"1\" class=\"dataframe\">\n",
       "  <thead>\n",
       "    <tr style=\"text-align: right;\">\n",
       "      <th></th>\n",
       "      <th>part_num</th>\n",
       "      <th>mean</th>\n",
       "      <th>median</th>\n",
       "      <th>std</th>\n",
       "      <th>sum</th>\n",
       "      <th>count</th>\n",
       "    </tr>\n",
       "  </thead>\n",
       "  <tbody>\n",
       "    <tr>\n",
       "      <th>0</th>\n",
       "      <td>2</td>\n",
       "      <td>71.026618</td>\n",
       "      <td>11</td>\n",
       "      <td>73.777301</td>\n",
       "      <td>136087</td>\n",
       "      <td>1916</td>\n",
       "    </tr>\n",
       "    <tr>\n",
       "      <th>1</th>\n",
       "      <td>3</td>\n",
       "      <td>7.155489</td>\n",
       "      <td>3</td>\n",
       "      <td>13.745331</td>\n",
       "      <td>40865</td>\n",
       "      <td>5711</td>\n",
       "    </tr>\n",
       "    <tr>\n",
       "      <th>2</th>\n",
       "      <td>4</td>\n",
       "      <td>75.257219</td>\n",
       "      <td>6</td>\n",
       "      <td>78.632375</td>\n",
       "      <td>140731</td>\n",
       "      <td>1870</td>\n",
       "    </tr>\n",
       "  </tbody>\n",
       "</table>\n",
       "</div>"
      ],
      "text/plain": [
       "   part_num       mean  median        std     sum  count\n",
       "0         2  71.026618      11  73.777301  136087   1916\n",
       "1         3   7.155489       3  13.745331   40865   5711\n",
       "2         4  75.257219       6  78.632375  140731   1870"
      ]
     },
     "execution_count": 5,
     "metadata": {},
     "output_type": "execute_result"
    }
   ],
   "source": [
    "responses.groupby(['part_num'])['word_count'].agg(['mean','median','std','sum','count']).reset_index()"
   ]
  },
  {
   "cell_type": "markdown",
   "metadata": {},
   "source": [
    "# WORD COUNT STATS BY QUESTION TYPE"
   ]
  },
  {
   "cell_type": "code",
   "execution_count": 6,
   "metadata": {},
   "outputs": [
    {
     "data": {
      "text/html": [
       "<div>\n",
       "<style scoped>\n",
       "    .dataframe tbody tr th:only-of-type {\n",
       "        vertical-align: middle;\n",
       "    }\n",
       "\n",
       "    .dataframe tbody tr th {\n",
       "        vertical-align: top;\n",
       "    }\n",
       "\n",
       "    .dataframe thead th {\n",
       "        text-align: right;\n",
       "    }\n",
       "</style>\n",
       "<table border=\"1\" class=\"dataframe\">\n",
       "  <thead>\n",
       "    <tr style=\"text-align: right;\">\n",
       "      <th></th>\n",
       "      <th>type</th>\n",
       "      <th>mean</th>\n",
       "      <th>median</th>\n",
       "      <th>std</th>\n",
       "      <th>sum</th>\n",
       "      <th>count</th>\n",
       "    </tr>\n",
       "  </thead>\n",
       "  <tbody>\n",
       "    <tr>\n",
       "      <th>0</th>\n",
       "      <td>TextQuestion</td>\n",
       "      <td>28.183069</td>\n",
       "      <td>22</td>\n",
       "      <td>24.589583</td>\n",
       "      <td>26633</td>\n",
       "      <td>945</td>\n",
       "    </tr>\n",
       "    <tr>\n",
       "      <th>1</th>\n",
       "      <td>TitleQuestion</td>\n",
       "      <td>3.059760</td>\n",
       "      <td>3</td>\n",
       "      <td>1.394980</td>\n",
       "      <td>20378</td>\n",
       "      <td>6660</td>\n",
       "    </tr>\n",
       "    <tr>\n",
       "      <th>2</th>\n",
       "      <td>VideoQuestion</td>\n",
       "      <td>143.061311</td>\n",
       "      <td>145</td>\n",
       "      <td>42.949781</td>\n",
       "      <td>270672</td>\n",
       "      <td>1892</td>\n",
       "    </tr>\n",
       "  </tbody>\n",
       "</table>\n",
       "</div>"
      ],
      "text/plain": [
       "            type        mean  median        std     sum  count\n",
       "0   TextQuestion   28.183069      22  24.589583   26633    945\n",
       "1  TitleQuestion    3.059760       3   1.394980   20378   6660\n",
       "2  VideoQuestion  143.061311     145  42.949781  270672   1892"
      ]
     },
     "execution_count": 6,
     "metadata": {},
     "output_type": "execute_result"
    }
   ],
   "source": [
    "responses.groupby(['type'])['word_count'].agg(['mean','median','std','sum','count']).reset_index()"
   ]
  },
  {
   "cell_type": "markdown",
   "metadata": {},
   "source": [
    "# WORD COUNT STATS BY MISSION"
   ]
  },
  {
   "cell_type": "code",
   "execution_count": 7,
   "metadata": {},
   "outputs": [
    {
     "data": {
      "text/html": [
       "<div>\n",
       "<style scoped>\n",
       "    .dataframe tbody tr th:only-of-type {\n",
       "        vertical-align: middle;\n",
       "    }\n",
       "\n",
       "    .dataframe tbody tr th {\n",
       "        vertical-align: top;\n",
       "    }\n",
       "\n",
       "    .dataframe thead th {\n",
       "        text-align: right;\n",
       "    }\n",
       "</style>\n",
       "<table border=\"1\" class=\"dataframe\">\n",
       "  <thead>\n",
       "    <tr style=\"text-align: right;\">\n",
       "      <th></th>\n",
       "      <th>index</th>\n",
       "      <th>word_count</th>\n",
       "    </tr>\n",
       "  </thead>\n",
       "  <tbody>\n",
       "    <tr>\n",
       "      <th>0</th>\n",
       "      <td>mean</td>\n",
       "      <td>33.450879</td>\n",
       "    </tr>\n",
       "    <tr>\n",
       "      <th>1</th>\n",
       "      <td>median</td>\n",
       "      <td>3.000000</td>\n",
       "    </tr>\n",
       "    <tr>\n",
       "      <th>2</th>\n",
       "      <td>std</td>\n",
       "      <td>58.933327</td>\n",
       "    </tr>\n",
       "    <tr>\n",
       "      <th>3</th>\n",
       "      <td>sum</td>\n",
       "      <td>317683.000000</td>\n",
       "    </tr>\n",
       "    <tr>\n",
       "      <th>4</th>\n",
       "      <td>count</td>\n",
       "      <td>9497.000000</td>\n",
       "    </tr>\n",
       "  </tbody>\n",
       "</table>\n",
       "</div>"
      ],
      "text/plain": [
       "    index     word_count\n",
       "0    mean      33.450879\n",
       "1  median       3.000000\n",
       "2     std      58.933327\n",
       "3     sum  317683.000000\n",
       "4   count    9497.000000"
      ]
     },
     "execution_count": 7,
     "metadata": {},
     "output_type": "execute_result"
    }
   ],
   "source": [
    "responses['word_count'].agg(['mean','median','std','sum','count']).reset_index()"
   ]
  },
  {
   "cell_type": "code",
   "execution_count": null,
   "metadata": {},
   "outputs": [],
   "source": []
  }
 ],
 "metadata": {
  "kernelspec": {
   "display_name": "Python 3",
   "language": "python",
   "name": "python3"
  },
  "language_info": {
   "codemirror_mode": {
    "name": "ipython",
    "version": 3
   },
   "file_extension": ".py",
   "mimetype": "text/x-python",
   "name": "python",
   "nbconvert_exporter": "python",
   "pygments_lexer": "ipython3",
   "version": "3.7.0"
  }
 },
 "nbformat": 4,
 "nbformat_minor": 2
}
