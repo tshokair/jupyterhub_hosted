{
 "cells": [
  {
   "cell_type": "code",
   "execution_count": null,
   "metadata": {
    "collapsed": true
   },
   "outputs": [],
   "source": [
    "import numpy as np\n",
    "import os\n",
    "import pandas as pd\n",
    "import psycopg2\n",
    "from sklearn.cluster import KMeans\n",
    "from sklearn.decomposition import PCA\n",
    "from sklearn.feature_extraction.text import TfidfVectorizer, CountVectorizer\n",
    "from sklearn.metrics import mean_squared_error\n",
    "from sklearn.model_selection import train_test_split, cross_val_predict\n",
    "from sklearn.pipeline import Pipeline\n",
    "from sklearn import linear_model\n",
    "import matplotlib.pyplot as plt\n",
    "from sklearn import preprocessing\n",
    "from urllib.parse import urlparse\n",
    "from urllib import parse\n",
    "from lib.build_regressions_features_mixed import MixedFeatureData\n",
    "from lib.explore_data import ExploratoryAnalysis\n",
    "from lib.regressions import MixedClassificationModel\n",
    "\n",
    "%matplotlib inline\n",
    "FOLLOWER_URL = os.environ['FOLLOWER_URL']\n",
    "                          \n",
    "def make_connection():\n",
    "    url_output = FOLLOWER_URL\n",
    "    url = urlparse(url_output)\n",
    "    conn = psycopg2.connect(\n",
    "        database=url.path[1:],\n",
    "        user=url.username,\n",
    "        password=url.password,\n",
    "        host=url.hostname\n",
    "    )\n",
    "    return conn"
   ]
  },
  {
   "cell_type": "markdown",
   "metadata": {},
   "source": [
    "# START HERE\n",
    "## The cell below contains all the mission specific data. Here you will specifity the mission id, the independent variables, the dependent variable, and the definitions of positive and negative outcome."
   ]
  },
  {
   "cell_type": "code",
   "execution_count": null,
   "metadata": {
    "collapsed": true
   },
   "outputs": [],
   "source": [
    "#CHANGE THESE VALUES\n",
    "mission_id = '24970'\n",
    "#ONLY USE SINGLE QUESTIONS FOR DEPENDENT AND INDEPENDENT VARIABLES IN FORMAT 'PART_NUM-QUESTION_NUM'\n",
    "continuous_independent_variables = ['2-7','2-9']\n",
    "#NOTE MULTIPLE QUESTIONS NEED TO BE CATEGORICAL\n",
    "categorical_independent_variables = ['2-3']\n",
    "binary_independent_variables = ['2-8', '2-10', '2-16']\n",
    "dependent_variable = '2-14'\n",
    "negative_outcomes = ['Slightly satisfied', 'Neither satisfied nor dissatisfied',\n",
    "                     'Slightly dissatisfied', 'Moderately dissatisfied', 'Extremely dissatisfied']\n",
    "positive_outcomes = ['Extremely satisfied', 'Moderately satisfied']"
   ]
  },
  {
   "cell_type": "markdown",
   "metadata": {},
   "source": [
    "# After entering the information above, go to Cell -> Run All to see your regression results"
   ]
  },
  {
   "cell_type": "code",
   "execution_count": null,
   "metadata": {},
   "outputs": [],
   "source": [
    "cnc = make_connection()\n",
    "questions = pd.read_sql_query(\"\"\"with m_questions as (select id as question_id, label, type, position as question_position,\n",
    "                                 part_id, structure from questions where type in ('SingleQuestion', 'MultipleQuestion', 'NumberQuestion')\n",
    "                                 and mission_id = \"\"\"+mission_id +\"\"\"),\n",
    "                                 m_parts as (select id as part_id, position as part_position from parts where\n",
    "                                 mission_id = \"\"\"+mission_id+\"\"\")\n",
    "                                 select question_id, label, type, question_position, m_parts.part_id, part_position,\n",
    "                                 structure from m_questions join m_parts on m_questions.part_id = m_parts.part_id\"\"\", cnc)\n",
    "\n",
    "question_list = '('+','.join([str(a) for a in questions['question_id'].tolist()])+')'\n",
    "responses = pd.read_sql_query(\"\"\"select id as response_id, snippet_id, question_id, answers from responses where \n",
    "                                 question_id in \"\"\"+question_list, cnc)\n",
    "response_data = pd.merge(responses, questions, on ='question_id')\n",
    "cnc.close"
   ]
  },
  {
   "cell_type": "code",
   "execution_count": null,
   "metadata": {
    "collapsed": true
   },
   "outputs": [],
   "source": [
    "id_sample = response_data.groupby(['snippet_id']).count().reset_index().sample(frac=1)['snippet_id'].tolist()"
   ]
  },
  {
   "cell_type": "code",
   "execution_count": null,
   "metadata": {},
   "outputs": [],
   "source": [
    "fd = MixedFeatureData(response_data[response_data['snippet_id'].isin(id_sample)].to_json(),\n",
    "                 dependent_variable,\n",
    "                 continuous_independent_variables,\n",
    "                 binary_independent_variables,\n",
    "                 categorical_independent_variables,\n",
    "                 positive_outcomes,\n",
    "                 negative_outcomes\n",
    "                 )\n",
    "eda = ExploratoryAnalysis(fd.encoded_features, fd.independent_variables,\n",
    "                          fd.dependent_variable, fd.question_choices())\n",
    "logistic_regression = MixedClassificationModel(fd)"
   ]
  },
  {
   "cell_type": "markdown",
   "metadata": {},
   "source": [
    "## Correlations of Independent Variables\n",
    "### After viewing these you may want to rethink your independent variable choices"
   ]
  },
  {
   "cell_type": "code",
   "execution_count": null,
   "metadata": {},
   "outputs": [],
   "source": [
    "eda.correlation_matrix_plots()"
   ]
  },
  {
   "cell_type": "code",
   "execution_count": null,
   "metadata": {},
   "outputs": [],
   "source": [
    "eda.correlation_matrix()"
   ]
  },
  {
   "cell_type": "markdown",
   "metadata": {},
   "source": [
    "# Relative Variance"
   ]
  },
  {
   "cell_type": "code",
   "execution_count": null,
   "metadata": {},
   "outputs": [],
   "source": [
    "explained_variances = eda.pca_explained_variances()\n",
    "for i, q_id in enumerate(fd.independent_variables):\n",
    "    print(q_id, round(explained_variances[i],2))"
   ]
  },
  {
   "cell_type": "markdown",
   "metadata": {},
   "source": [
    "# Single Value Decomposition\n",
    "## Data Projected onto a 2D space, and colored by Outcome"
   ]
  },
  {
   "cell_type": "code",
   "execution_count": null,
   "metadata": {},
   "outputs": [],
   "source": [
    "eda.plot_outcome_clusters()"
   ]
  },
  {
   "cell_type": "markdown",
   "metadata": {},
   "source": [
    "# Logistic Regression\n",
    "## Histogram of Predicted Probability of Positive Outcome, colored by Actual Outcome\n"
   ]
  },
  {
   "cell_type": "code",
   "execution_count": null,
   "metadata": {},
   "outputs": [],
   "source": [
    "logistic_regression.visualize_goodness()"
   ]
  },
  {
   "cell_type": "markdown",
   "metadata": {},
   "source": [
    "#\n",
    "## Results Summary"
   ]
  },
  {
   "cell_type": "code",
   "execution_count": null,
   "metadata": {},
   "outputs": [],
   "source": [
    "logistic_regression.print_results()"
   ]
  },
  {
   "cell_type": "markdown",
   "metadata": {},
   "source": [
    "# \n",
    "## Simulated Probability of Positive Outcome controlling for all but one variable"
   ]
  },
  {
   "cell_type": "code",
   "execution_count": null,
   "metadata": {},
   "outputs": [],
   "source": [
    "for independent_variable in fd.continuous_independent_variables:\n",
    "    if independent_variable not in fd.binary_independent_variables:\n",
    "        logistic_regression.simulate_continuous_outcomes(independent_variable)"
   ]
  },
  {
   "cell_type": "code",
   "execution_count": null,
   "metadata": {},
   "outputs": [],
   "source": [
    "for independent_variable in fd.independent_variables:\n",
    "    if independent_variable in fd.binary_independent_variables or\\\n",
    "       independent_variable in fd.dummies:\n",
    "        logistic_regression.simulate_binary_outcomes(independent_variable)"
   ]
  },
  {
   "cell_type": "code",
   "execution_count": null,
   "metadata": {
    "collapsed": true
   },
   "outputs": [],
   "source": []
  }
 ],
 "metadata": {
  "kernelspec": {
   "display_name": "Python 3",
   "language": "python",
   "name": "python3"
  },
  "language_info": {
   "codemirror_mode": {
    "name": "ipython",
    "version": 3
   },
   "file_extension": ".py",
   "mimetype": "text/x-python",
   "name": "python",
   "nbconvert_exporter": "python",
   "pygments_lexer": "ipython3",
   "version": "3.6.3"
  }
 },
 "nbformat": 4,
 "nbformat_minor": 2
}
