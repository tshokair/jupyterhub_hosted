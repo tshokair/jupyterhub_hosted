{
 "cells": [
  {
   "cell_type": "code",
   "execution_count": 3,
   "metadata": {},
   "outputs": [
    {
     "name": "stderr",
     "output_type": "stream",
     "text": [
      "/usr/local/lib/python3.6/site-packages/psycopg2/__init__.py:144: UserWarning: The psycopg2 wheel package will be renamed from release 2.8; in order to keep installing from binary please use \"pip install psycopg2-binary\" instead. For details see: <http://initd.org/psycopg/docs/install.html#binary-install-from-pypi>.\n",
      "  \"\"\")\n"
     ]
    }
   ],
   "source": [
    "import matplotlib.pyplot as plt\n",
    "%matplotlib inline\n",
    "import numpy as np\n",
    "import os\n",
    "import pandas as pd\n",
    "import psycopg2\n",
    "import seaborn as sns\n",
    "\n",
    "sns.set_style(\"whitegrid\")\n",
    "import statsmodels.formula.api as sm\n",
    "from export_regression_lib import trained_model, odds_ratio, independent_variable_stats\n",
    "from export_regression_lib import (\n",
    "    standardized_features,\n",
    "    simulating_features,\n",
    "    simulate_continuous_outcomes,\n",
    ")"
   ]
  },
  {
   "cell_type": "markdown",
   "metadata": {},
   "source": [
    "# START HERE\n",
    "## The cell below contains all the mission specific data. Here you will specifity, the independent variables, the dependent variable, and the definitions of positive and negative outcome."
   ]
  },
  {
   "cell_type": "code",
   "execution_count": 4,
   "metadata": {},
   "outputs": [],
   "source": [
    "# CHANGE THESE VALUES\n",
    "# ONLY USE SINGLE QUESTIONS FOR DEPENDENT AND INDEPENDENT VARIABLES IN FORMAT 'PART_NUM-QUESTION_NUM'\n",
    "continuous_independent_variables = [\"Q30\", \"Q33\", \"Q36\", \"Q41\"]\n",
    "# NOTE MULTIPLE QUESTIONS NEED TO BE CATEGORICAL\n",
    "categorical_independent_variables = [\"Q35\", \"Q39\", \"Q42\"]\n",
    "# categorical_dict = {'Q39': 'Urban', 'Q42': 'Republican',  'Q43': 'Donald Trump'}\n",
    "recoded_categorical_variables = {\n",
    "    \"Q35\": {\n",
    "        \"Male\": [\"Male\"],\n",
    "        \"Female\": [],\n",
    "    }\n",
    "}\n",
    "categorical_dict = {}\n",
    "dependent_variable = \"Q19_4\"\n",
    "negative_outcomes = [\"3\", \"4\"]\n",
    "positive_outcomes = [\"1\", \"2\"]\n",
    "grouping = \"rid\"\n",
    "\n",
    "data_file_name = \"data_files/hot_takes_data.csv\"\n",
    "encoded_file_name = \"data_files/hot_takes_encoded.csv\""
   ]
  },
  {
   "cell_type": "markdown",
   "metadata": {},
   "source": [
    "# After entering the information above, go to Cell -> Run All to see your regression results"
   ]
  },
  {
   "cell_type": "code",
   "execution_count": 5,
   "metadata": {},
   "outputs": [],
   "source": [
    "data = pd.read_csv(data_file_name).drop([0,1])\n",
    "encoded_data = pd.read_csv(encoded_file_name).drop([0,1])\n",
    "continuous_data = encoded_data[continuous_independent_variables + ['rid', dependent_variable]].dropna()\n",
    "for cat in categorical_independent_variables:\n",
    "    data[cat] = data[cat].str.replace(\"\\t\",\" \")\n",
    "for cont in continuous_independent_variables + [dependent_variable]:\n",
    "    continuous_data[cont] = continuous_data[cont].astype(int)"
   ]
  },
  {
   "cell_type": "code",
   "execution_count": 6,
   "metadata": {},
   "outputs": [
    {
     "data": {
      "text/plain": [
       "array(['Male ', 'Female', 'Prefer not to identify',\n",
       "       'Gender non-conforming / non-binary'], dtype=object)"
      ]
     },
     "execution_count": 6,
     "metadata": {},
     "output_type": "execute_result"
    }
   ],
   "source": [
    "data['Q35'].unique()"
   ]
  },
  {
   "cell_type": "code",
   "execution_count": 7,
   "metadata": {},
   "outputs": [
    {
     "data": {
      "text/html": [
       "<div>\n",
       "<style scoped>\n",
       "    .dataframe tbody tr th:only-of-type {\n",
       "        vertical-align: middle;\n",
       "    }\n",
       "\n",
       "    .dataframe tbody tr th {\n",
       "        vertical-align: top;\n",
       "    }\n",
       "\n",
       "    .dataframe thead th {\n",
       "        text-align: right;\n",
       "    }\n",
       "</style>\n",
       "<table border=\"1\" class=\"dataframe\">\n",
       "  <thead>\n",
       "    <tr style=\"text-align: right;\">\n",
       "      <th></th>\n",
       "      <th>Value</th>\n",
       "      <th>Encoding</th>\n",
       "      <th>count</th>\n",
       "    </tr>\n",
       "  </thead>\n",
       "  <tbody>\n",
       "    <tr>\n",
       "      <th>0</th>\n",
       "      <td>\\tI somewhat do NOT want this to come true.</td>\n",
       "      <td>2</td>\n",
       "      <td>311</td>\n",
       "    </tr>\n",
       "    <tr>\n",
       "      <th>1</th>\n",
       "      <td>I definitely WANT this to come true.</td>\n",
       "      <td>4</td>\n",
       "      <td>156</td>\n",
       "    </tr>\n",
       "    <tr>\n",
       "      <th>2</th>\n",
       "      <td>I definitely do NOT want this to come true.</td>\n",
       "      <td>1</td>\n",
       "      <td>313</td>\n",
       "    </tr>\n",
       "    <tr>\n",
       "      <th>3</th>\n",
       "      <td>I somewhat WANT this to come true.</td>\n",
       "      <td>3</td>\n",
       "      <td>270</td>\n",
       "    </tr>\n",
       "  </tbody>\n",
       "</table>\n",
       "</div>"
      ],
      "text/plain": [
       "                                         Value Encoding  count\n",
       "0  \\tI somewhat do NOT want this to come true.        2    311\n",
       "1         I definitely WANT this to come true.        4    156\n",
       "2  I definitely do NOT want this to come true.        1    313\n",
       "3           I somewhat WANT this to come true.        3    270"
      ]
     },
     "execution_count": 7,
     "metadata": {},
     "output_type": "execute_result"
    }
   ],
   "source": [
    "dep_var = (\n",
    "    pd.merge(\n",
    "        data[['rid',dependent_variable]],\n",
    "        encoded_data[['rid',dependent_variable]],\n",
    "        on='rid'\n",
    "    )\n",
    "    .rename(columns={dependent_variable+'_x': 'Value', dependent_variable+'_y':'Encoding','rid':'count'})\n",
    "    .groupby(['Value', 'Encoding'])\n",
    "    .count().reset_index()\n",
    ")\n",
    "dep_var"
   ]
  },
  {
   "cell_type": "code",
   "execution_count": 8,
   "metadata": {},
   "outputs": [
    {
     "name": "stdout",
     "output_type": "stream",
     "text": [
      "Male False []\n",
      "True\n",
      "False\n",
      "Female True ['Male']\n",
      "True\n",
      "False\n"
     ]
    }
   ],
   "source": [
    "for cat in recoded_categorical_variables:\n",
    "    recoded_vals = []\n",
    "    for val in recoded_categorical_variables[cat]:\n",
    "        print(val, not recoded_categorical_variables[cat][val], recoded_vals)\n",
    "        print(val not in recoded_vals)\n",
    "        print((not recoded_categorical_variables[cat][val]) and ('Male' not in recoded_vals))\n",
    "        data[cat] = data.apply(\n",
    "            lambda row: val\n",
    "            if ((row[cat] in recoded_categorical_variables[cat][val])\n",
    "            or (\n",
    "                (not recoded_categorical_variables[cat][val])\n",
    "                and (row[cat] not in recoded_vals)\n",
    "            ))\n",
    "            else row[cat],\n",
    "            axis=1,\n",
    "        )\n",
    "        recoded_vals.append(val)"
   ]
  },
  {
   "cell_type": "code",
   "execution_count": 9,
   "metadata": {},
   "outputs": [
    {
     "data": {
      "text/plain": [
       "array(['Female'], dtype=object)"
      ]
     },
     "execution_count": 9,
     "metadata": {},
     "output_type": "execute_result"
    }
   ],
   "source": [
    "data['Q35'].unique()"
   ]
  },
  {
   "cell_type": "code",
   "execution_count": 10,
   "metadata": {},
   "outputs": [],
   "source": [
    "for cat in recoded_categorical_variables:\n",
    "    for val in recoded_categorical_variables[cat]:\n",
    "        #print(val, recoded_categorical_variables[cat][val])\n",
    "        data[cat] = data.apply(\n",
    "            lambda row: val if row[cat] in recoded_categorical_variables[cat][val]\n",
    "            else row[cat],\n",
    "            axis=1\n",
    "        )\n",
    "if categorical_dict:\n",
    "    pass\n",
    "else:\n",
    "    for f in categorical_independent_variables:\n",
    "        temp_grpd = data[['rid',f]].groupby(f).count().reset_index()\n",
    "        loc = temp_grpd['rid'].idxmax()\n",
    "        categorical_dict[f] = temp_grpd[f].iloc[loc]"
   ]
  },
  {
   "cell_type": "code",
   "execution_count": 11,
   "metadata": {},
   "outputs": [],
   "source": [
    "def get_outcome(response, positive_outcomes, negative_outcomes):\n",
    "    if str(response) in positive_outcomes:\n",
    "        return 1\n",
    "    elif str(response) in negative_outcomes:\n",
    "        return 0\n",
    "    else:\n",
    "        return None"
   ]
  },
  {
   "cell_type": "code",
   "execution_count": 12,
   "metadata": {},
   "outputs": [],
   "source": [
    "dummy_df = pd.DataFrame()\n",
    "for cat in categorical_independent_variables:\n",
    "    temp_dummy_df = pd.get_dummies(data[[\"rid\", cat]].dropna(), columns=[cat])\n",
    "    if len(dummy_df) > 0:\n",
    "        dummy_df = pd.merge(\n",
    "            dummy_df,\n",
    "            temp_dummy_df[\n",
    "                [\n",
    "                    col\n",
    "                    for col in list(temp_dummy_df)\n",
    "                    if not col.endswith(categorical_dict[cat])\n",
    "                ]\n",
    "            ],\n",
    "            on=\"rid\",\n",
    "        )\n",
    "    else:\n",
    "        dummy_df = temp_dummy_df[\n",
    "            [\n",
    "                col\n",
    "                for col in list(temp_dummy_df)\n",
    "                if not col.endswith(categorical_dict[cat])\n",
    "            ]\n",
    "        ]\n",
    "continuous_data['outcome'] = encoded_data.apply(\n",
    "    lambda row: get_outcome(row[dependent_variable], positive_outcomes, negative_outcomes),\n",
    "    axis=1\n",
    ")\n",
    "full_data = pd.merge(\n",
    "    continuous_data,\n",
    "    dummy_df,\n",
    "    on='rid'\n",
    ")\n",
    "features = [f for f in list(full_data) if f not in ['rid', 'outcome', dependent_variable]]\n",
    "categorical_features = [f for f in features if any([f.startswith(cf) for cf in categorical_independent_variables])]"
   ]
  },
  {
   "cell_type": "code",
   "execution_count": 13,
   "metadata": {},
   "outputs": [
    {
     "data": {
      "text/html": [
       "<div>\n",
       "<style scoped>\n",
       "    .dataframe tbody tr th:only-of-type {\n",
       "        vertical-align: middle;\n",
       "    }\n",
       "\n",
       "    .dataframe tbody tr th {\n",
       "        vertical-align: top;\n",
       "    }\n",
       "\n",
       "    .dataframe thead th {\n",
       "        text-align: right;\n",
       "    }\n",
       "</style>\n",
       "<table border=\"1\" class=\"dataframe\">\n",
       "  <thead>\n",
       "    <tr style=\"text-align: right;\">\n",
       "      <th></th>\n",
       "      <th>Q30</th>\n",
       "      <th>Q33</th>\n",
       "      <th>Q36</th>\n",
       "      <th>Q41</th>\n",
       "      <th>Q19_4</th>\n",
       "      <th>outcome</th>\n",
       "      <th>Q39_Rural</th>\n",
       "      <th>Q39_Urban</th>\n",
       "      <th>Q42_ Independent</th>\n",
       "      <th>Q42_Other</th>\n",
       "      <th>Q42_Republican</th>\n",
       "    </tr>\n",
       "  </thead>\n",
       "  <tbody>\n",
       "    <tr>\n",
       "      <th>Q30</th>\n",
       "      <td>1.000000</td>\n",
       "      <td>-0.047654</td>\n",
       "      <td>-0.106538</td>\n",
       "      <td>0.011480</td>\n",
       "      <td>0.033786</td>\n",
       "      <td>-0.026366</td>\n",
       "      <td>0.045473</td>\n",
       "      <td>-0.128107</td>\n",
       "      <td>-0.027672</td>\n",
       "      <td>0.008174</td>\n",
       "      <td>0.018656</td>\n",
       "    </tr>\n",
       "    <tr>\n",
       "      <th>Q33</th>\n",
       "      <td>-0.047654</td>\n",
       "      <td>1.000000</td>\n",
       "      <td>0.436670</td>\n",
       "      <td>0.067751</td>\n",
       "      <td>0.096288</td>\n",
       "      <td>-0.098116</td>\n",
       "      <td>-0.189380</td>\n",
       "      <td>0.066675</td>\n",
       "      <td>-0.032840</td>\n",
       "      <td>-0.105677</td>\n",
       "      <td>0.053769</td>\n",
       "    </tr>\n",
       "    <tr>\n",
       "      <th>Q36</th>\n",
       "      <td>-0.106538</td>\n",
       "      <td>0.436670</td>\n",
       "      <td>1.000000</td>\n",
       "      <td>-0.009967</td>\n",
       "      <td>0.030782</td>\n",
       "      <td>-0.019883</td>\n",
       "      <td>-0.181875</td>\n",
       "      <td>-0.039996</td>\n",
       "      <td>-0.079975</td>\n",
       "      <td>-0.136930</td>\n",
       "      <td>0.166019</td>\n",
       "    </tr>\n",
       "    <tr>\n",
       "      <th>Q41</th>\n",
       "      <td>0.011480</td>\n",
       "      <td>0.067751</td>\n",
       "      <td>-0.009967</td>\n",
       "      <td>1.000000</td>\n",
       "      <td>-0.049523</td>\n",
       "      <td>0.034873</td>\n",
       "      <td>-0.086327</td>\n",
       "      <td>0.030065</td>\n",
       "      <td>0.000582</td>\n",
       "      <td>0.022842</td>\n",
       "      <td>-0.471690</td>\n",
       "    </tr>\n",
       "    <tr>\n",
       "      <th>Q19_4</th>\n",
       "      <td>0.033786</td>\n",
       "      <td>0.096288</td>\n",
       "      <td>0.030782</td>\n",
       "      <td>-0.049523</td>\n",
       "      <td>1.000000</td>\n",
       "      <td>-0.880938</td>\n",
       "      <td>0.008544</td>\n",
       "      <td>0.011379</td>\n",
       "      <td>-0.026787</td>\n",
       "      <td>-0.004477</td>\n",
       "      <td>0.078584</td>\n",
       "    </tr>\n",
       "    <tr>\n",
       "      <th>outcome</th>\n",
       "      <td>-0.026366</td>\n",
       "      <td>-0.098116</td>\n",
       "      <td>-0.019883</td>\n",
       "      <td>0.034873</td>\n",
       "      <td>-0.880938</td>\n",
       "      <td>1.000000</td>\n",
       "      <td>0.000458</td>\n",
       "      <td>-0.027741</td>\n",
       "      <td>0.024863</td>\n",
       "      <td>0.011442</td>\n",
       "      <td>-0.080516</td>\n",
       "    </tr>\n",
       "    <tr>\n",
       "      <th>Q39_Rural</th>\n",
       "      <td>0.045473</td>\n",
       "      <td>-0.189380</td>\n",
       "      <td>-0.181875</td>\n",
       "      <td>-0.086327</td>\n",
       "      <td>0.008544</td>\n",
       "      <td>0.000458</td>\n",
       "      <td>1.000000</td>\n",
       "      <td>-0.333707</td>\n",
       "      <td>0.067695</td>\n",
       "      <td>0.032291</td>\n",
       "      <td>0.090679</td>\n",
       "    </tr>\n",
       "    <tr>\n",
       "      <th>Q39_Urban</th>\n",
       "      <td>-0.128107</td>\n",
       "      <td>0.066675</td>\n",
       "      <td>-0.039996</td>\n",
       "      <td>0.030065</td>\n",
       "      <td>0.011379</td>\n",
       "      <td>-0.027741</td>\n",
       "      <td>-0.333707</td>\n",
       "      <td>1.000000</td>\n",
       "      <td>-0.068605</td>\n",
       "      <td>0.001709</td>\n",
       "      <td>-0.033889</td>\n",
       "    </tr>\n",
       "    <tr>\n",
       "      <th>Q42_ Independent</th>\n",
       "      <td>-0.027672</td>\n",
       "      <td>-0.032840</td>\n",
       "      <td>-0.079975</td>\n",
       "      <td>0.000582</td>\n",
       "      <td>-0.026787</td>\n",
       "      <td>0.024863</td>\n",
       "      <td>0.067695</td>\n",
       "      <td>-0.068605</td>\n",
       "      <td>1.000000</td>\n",
       "      <td>-0.126248</td>\n",
       "      <td>-0.365142</td>\n",
       "    </tr>\n",
       "    <tr>\n",
       "      <th>Q42_Other</th>\n",
       "      <td>0.008174</td>\n",
       "      <td>-0.105677</td>\n",
       "      <td>-0.136930</td>\n",
       "      <td>0.022842</td>\n",
       "      <td>-0.004477</td>\n",
       "      <td>0.011442</td>\n",
       "      <td>0.032291</td>\n",
       "      <td>0.001709</td>\n",
       "      <td>-0.126248</td>\n",
       "      <td>1.000000</td>\n",
       "      <td>-0.159874</td>\n",
       "    </tr>\n",
       "    <tr>\n",
       "      <th>Q42_Republican</th>\n",
       "      <td>0.018656</td>\n",
       "      <td>0.053769</td>\n",
       "      <td>0.166019</td>\n",
       "      <td>-0.471690</td>\n",
       "      <td>0.078584</td>\n",
       "      <td>-0.080516</td>\n",
       "      <td>0.090679</td>\n",
       "      <td>-0.033889</td>\n",
       "      <td>-0.365142</td>\n",
       "      <td>-0.159874</td>\n",
       "      <td>1.000000</td>\n",
       "    </tr>\n",
       "  </tbody>\n",
       "</table>\n",
       "</div>"
      ],
      "text/plain": [
       "                        Q30       Q33       Q36       Q41     Q19_4   outcome  \\\n",
       "Q30                1.000000 -0.047654 -0.106538  0.011480  0.033786 -0.026366   \n",
       "Q33               -0.047654  1.000000  0.436670  0.067751  0.096288 -0.098116   \n",
       "Q36               -0.106538  0.436670  1.000000 -0.009967  0.030782 -0.019883   \n",
       "Q41                0.011480  0.067751 -0.009967  1.000000 -0.049523  0.034873   \n",
       "Q19_4              0.033786  0.096288  0.030782 -0.049523  1.000000 -0.880938   \n",
       "outcome           -0.026366 -0.098116 -0.019883  0.034873 -0.880938  1.000000   \n",
       "Q39_Rural          0.045473 -0.189380 -0.181875 -0.086327  0.008544  0.000458   \n",
       "Q39_Urban         -0.128107  0.066675 -0.039996  0.030065  0.011379 -0.027741   \n",
       "Q42_ Independent  -0.027672 -0.032840 -0.079975  0.000582 -0.026787  0.024863   \n",
       "Q42_Other          0.008174 -0.105677 -0.136930  0.022842 -0.004477  0.011442   \n",
       "Q42_Republican     0.018656  0.053769  0.166019 -0.471690  0.078584 -0.080516   \n",
       "\n",
       "                   Q39_Rural  Q39_Urban  Q42_ Independent   Q42_Other  \\\n",
       "Q30                 0.045473  -0.128107          -0.027672   0.008174   \n",
       "Q33                -0.189380   0.066675          -0.032840  -0.105677   \n",
       "Q36                -0.181875  -0.039996          -0.079975  -0.136930   \n",
       "Q41                -0.086327   0.030065           0.000582   0.022842   \n",
       "Q19_4               0.008544   0.011379          -0.026787  -0.004477   \n",
       "outcome             0.000458  -0.027741           0.024863   0.011442   \n",
       "Q39_Rural           1.000000  -0.333707           0.067695   0.032291   \n",
       "Q39_Urban          -0.333707   1.000000          -0.068605   0.001709   \n",
       "Q42_ Independent    0.067695  -0.068605           1.000000  -0.126248   \n",
       "Q42_Other           0.032291   0.001709          -0.126248   1.000000   \n",
       "Q42_Republican      0.090679  -0.033889          -0.365142  -0.159874   \n",
       "\n",
       "                   Q42_Republican  \n",
       "Q30                      0.018656  \n",
       "Q33                      0.053769  \n",
       "Q36                      0.166019  \n",
       "Q41                     -0.471690  \n",
       "Q19_4                    0.078584  \n",
       "outcome                 -0.080516  \n",
       "Q39_Rural                0.090679  \n",
       "Q39_Urban               -0.033889  \n",
       "Q42_ Independent        -0.365142  \n",
       "Q42_Other               -0.159874  \n",
       "Q42_Republican           1.000000  "
      ]
     },
     "execution_count": 13,
     "metadata": {},
     "output_type": "execute_result"
    }
   ],
   "source": [
    "full_data.corr()"
   ]
  },
  {
   "cell_type": "code",
   "execution_count": 14,
   "metadata": {},
   "outputs": [
    {
     "data": {
      "text/html": [
       "<div>\n",
       "<style scoped>\n",
       "    .dataframe tbody tr th:only-of-type {\n",
       "        vertical-align: middle;\n",
       "    }\n",
       "\n",
       "    .dataframe tbody tr th {\n",
       "        vertical-align: top;\n",
       "    }\n",
       "\n",
       "    .dataframe thead th {\n",
       "        text-align: right;\n",
       "    }\n",
       "</style>\n",
       "<table border=\"1\" class=\"dataframe\">\n",
       "  <thead>\n",
       "    <tr style=\"text-align: right;\">\n",
       "      <th></th>\n",
       "      <th>outcome</th>\n",
       "      <th>rid</th>\n",
       "    </tr>\n",
       "  </thead>\n",
       "  <tbody>\n",
       "    <tr>\n",
       "      <th>0</th>\n",
       "      <td>0.0</td>\n",
       "      <td>426</td>\n",
       "    </tr>\n",
       "    <tr>\n",
       "      <th>1</th>\n",
       "      <td>1.0</td>\n",
       "      <td>624</td>\n",
       "    </tr>\n",
       "  </tbody>\n",
       "</table>\n",
       "</div>"
      ],
      "text/plain": [
       "   outcome  rid\n",
       "0      0.0  426\n",
       "1      1.0  624"
      ]
     },
     "execution_count": 14,
     "metadata": {},
     "output_type": "execute_result"
    }
   ],
   "source": [
    "full_data.groupby('outcome')['rid'].count().reset_index()"
   ]
  },
  {
   "cell_type": "code",
   "execution_count": 15,
   "metadata": {},
   "outputs": [
    {
     "name": "stdout",
     "output_type": "stream",
     "text": [
      "Optimization terminated successfully.\n",
      "         Current function value: 0.683367\n",
      "         Iterations 4\n",
      "Optimization terminated successfully.\n",
      "         Current function value: 0.683367\n",
      "         Iterations 4\n",
      "Optimization terminated successfully.\n",
      "         Current function value: 0.683367\n",
      "         Iterations 4\n",
      "Optimization terminated successfully.\n",
      "         Current function value: 0.683367\n",
      "         Iterations 4\n",
      "Optimization terminated successfully.\n",
      "         Current function value: 0.683367\n",
      "         Iterations 1\n",
      "Optimization terminated successfully.\n",
      "         Current function value: 0.683367\n",
      "         Iterations 4\n",
      "Optimization terminated successfully.\n",
      "         Current function value: 0.683367\n",
      "         Iterations 4\n",
      "Optimization terminated successfully.\n",
      "         Current function value: 0.683367\n",
      "         Iterations 4\n",
      "Optimization terminated successfully.\n",
      "         Current function value: 0.683367\n",
      "         Iterations 4\n",
      "Optimization terminated successfully.\n",
      "         Current function value: 0.683367\n",
      "         Iterations 1\n"
     ]
    }
   ],
   "source": [
    "stats = independent_variable_stats(full_data, features)\n",
    "full_data_std = standardized_features(full_data, continuous_independent_variables, stats)\n",
    "len_pos = len(full_data_std[full_data_std['outcome'] == 1])\n",
    "len_neg = len(full_data_std[full_data_std['outcome'] == 0])\n",
    "sample_size = min(len_pos, len_neg)\n",
    "training = pd.concat([\n",
    "    full_data_std[full_data_std['outcome'] == 1].sample(n=sample_size),\n",
    "    full_data_std[full_data_std['outcome'] == 0].sample(n=sample_size)\n",
    "])\n",
    "model = trained_model(training[features], training[\"outcome\"])\n",
    "model = trained_model(training[features], training[\"outcome\"])"
   ]
  },
  {
   "cell_type": "code",
   "execution_count": 16,
   "metadata": {},
   "outputs": [
    {
     "name": "stdout",
     "output_type": "stream",
     "text": [
      "                           Logit Regression Results                           \n",
      "==============================================================================\n",
      "Dep. Variable:                outcome   No. Observations:                  852\n",
      "Model:                          Logit   Df Residuals:                      843\n",
      "Method:                           MLE   Df Model:                            8\n",
      "Date:                Fri, 15 Feb 2019   Pseudo R-squ.:                 0.01411\n",
      "Time:                        10:04:56   Log-Likelihood:                -582.23\n",
      "converged:                       True   LL-Null:                       -590.56\n",
      "                                        LLR p-value:                   0.03379\n",
      "=====================================================================================\n",
      "                        coef    std err          z      P>|z|      [0.025      0.975]\n",
      "-------------------------------------------------------------------------------------\n",
      "Q30                  -0.0910      0.070     -1.291      0.197      -0.229       0.047\n",
      "Q33                  -0.2345      0.078     -3.005      0.003      -0.388      -0.082\n",
      "Q36                   0.1047      0.081      1.292      0.196      -0.054       0.264\n",
      "Q41                   0.0272      0.077      0.354      0.723      -0.123       0.178\n",
      "Q39_Rural             0.0224      0.175      0.128      0.898      -0.320       0.365\n",
      "Q39_Urban            -0.0455      0.146     -0.311      0.755      -0.332       0.241\n",
      "Q42_ Independent      0.1708      0.158      1.083      0.279      -0.138       0.480\n",
      "Q42_Other             0.1051      0.309      0.340      0.734      -0.501       0.711\n",
      "Q42_Republican       -0.2102      0.157     -1.341      0.180      -0.517       0.097\n",
      "=====================================================================================\n",
      "\n",
      "ODDS RATIOS~~~~~~~~~~~~~~~~~~~~~~~~~~\n",
      "  independent_variable  odds_%_increase\n",
      "0                  Q33              -21\n"
     ]
    }
   ],
   "source": [
    "print(model.summary())\n",
    "sig_indicies = [i for i,p in enumerate(model.pvalues) if p <= .1]\n",
    "sig_variables = [\n",
    "        features[i]\n",
    "        for i, col in enumerate(features)\n",
    "        if i in sig_indicies\n",
    "]\n",
    "print(\"\")\n",
    "print(\"ODDS RATIOS~~~~~~~~~~~~~~~~~~~~~~~~~~\")\n",
    "print(odds_ratio(model, sig_variables, sig_indicies))"
   ]
  },
  {
   "cell_type": "code",
   "execution_count": 17,
   "metadata": {},
   "outputs": [
    {
     "data": {
      "text/plain": [
       "Q30                 -0.090956\n",
       "Q33                 -0.234550\n",
       "Q36                  0.104712\n",
       "Q41                  0.027191\n",
       "Q39_Rural            0.022388\n",
       "Q39_Urban           -0.045475\n",
       "Q42_ Independent     0.170795\n",
       "Q42_Other            0.105079\n",
       "Q42_Republican      -0.210229\n",
       "dtype: float64"
      ]
     },
     "execution_count": 17,
     "metadata": {},
     "output_type": "execute_result"
    }
   ],
   "source": [
    "model.params"
   ]
  },
  {
   "cell_type": "code",
   "execution_count": 18,
   "metadata": {},
   "outputs": [
    {
     "data": {
      "text/plain": [
       "-21"
      ]
     },
     "execution_count": 18,
     "metadata": {},
     "output_type": "execute_result"
    }
   ],
   "source": [
    "int(round(100 * (np.exp(-0.234550) - 1), 0))"
   ]
  },
  {
   "cell_type": "code",
   "execution_count": 20,
   "metadata": {},
   "outputs": [
    {
     "data": {
      "image/png": "[encoded data removed]",
      "text/plain": [
       "<Figure size 842.4x595.44 with 1 Axes>"
      ]
     },
     "metadata": {},
     "output_type": "display_data"
    }
   ],
   "source": [
    "sns.set_style(\"whitegrid\")\n",
    "a4_dims = (11.7, 8.27)\n",
    "fig, ax = plt.subplots(figsize=a4_dims)\n",
    "simulated_features = simulating_features(full_data_std, features)\n",
    "sig_indicies = [i for i, p in enumerate(model.pvalues) if p <= 0.10]\n",
    "sig_variables = [\n",
    "    features[i]\n",
    "    for i, col in enumerate(features)\n",
    "    if i in sig_indicies and col not in categorical_features\n",
    "]\n",
    "for independent_variable in sig_variables:\n",
    "    outcome_labels = [\"negative\", \"positive\"]\n",
    "    outcome_choices = [0, 1]\n",
    "    r_d = simulate_continuous_outcomes(\n",
    "        simulated_features, model, features, independent_variable\n",
    "    )\n",
    "    ax.scatter(\n",
    "        r_d[\"response_range\"],\n",
    "        r_d[\"predictions\"],\n",
    "        label=independent_variable[0:20] + \"...\",\n",
    "    )\n",
    "    ax.set_ylabel(\"Prediction\")\n",
    "    ax.set_xlabel(independent_variable)\n",
    "    ax.set_yticks(np.sort(outcome_choices))\n",
    "    ax.set_yticklabels(\n",
    "        [\n",
    "            str(outcome) + \" \" + choice\n",
    "            for outcome, choice in zip(outcome_choices, outcome_labels)\n",
    "        ]\n",
    "    )\n",
    "    ax.set_xticks(np.sort(r_d[\"response_range\"]))\n",
    "    ax.set_xticklabels(\n",
    "        [\n",
    "            round(\n",
    "                stats[independent_variable][\"std\"]\n",
    "                * (stats[independent_variable][\"mu\"] + chc)\n",
    "            )\n",
    "            for chc in r_d[\"question_choices\"]\n",
    "        ],\n",
    "        rotation=90,\n",
    "    )\n",
    "    ax.legend()\n",
    "    ax.set_ylim(-0.1)\n",
    "    ax.set_xlim(-0.1)\n",
    "# plt.savefig(\"sig_sum_uses.png\")\n",
    "plt.show()"
   ]
  },
  {
   "cell_type": "code",
   "execution_count": 21,
   "metadata": {},
   "outputs": [
    {
     "data": {
      "image/png": "[encoded data removed]",
      "text/plain": [
       "<Figure size 842.4x595.44 with 1 Axes>"
      ]
     },
     "metadata": {},
     "output_type": "display_data"
    }
   ],
   "source": [
    "sns.set_style(\"whitegrid\")\n",
    "a4_dims = (11.7, 8.27)\n",
    "fig, ax = plt.subplots(figsize=a4_dims)\n",
    "simulated_features = simulating_features(full_data_std, features)\n",
    "sig_indicies = [i for i, p in enumerate(model.pvalues) if p <= 0.10]\n",
    "sig_variables = [\n",
    "    features[i]\n",
    "    for i, col in enumerate(features)\n",
    "    if i in sig_indicies and col in categorical_features\n",
    "]\n",
    "for independent_variable in sig_variables:\n",
    "    outcome_labels = [\"negative\", \"positive\"]\n",
    "    outcome_choices = [0, 1]\n",
    "    r_d = simulate_continuous_outcomes(\n",
    "        simulated_features, model, features, independent_variable\n",
    "    )\n",
    "    ax.scatter(\n",
    "        r_d[\"response_range\"],\n",
    "        r_d[\"predictions\"],\n",
    "        label=independent_variable[0:20] + \"...\",\n",
    "    )\n",
    "    ax.set_ylabel(\"Prediction\")\n",
    "    ax.set_xlabel(independent_variable)\n",
    "    ax.set_yticks(np.sort(outcome_choices))\n",
    "    ax.set_yticklabels(\n",
    "        [\n",
    "            str(outcome) + \" \" + choice\n",
    "            for outcome, choice in zip(outcome_choices, outcome_labels)\n",
    "        ]\n",
    "    )\n",
    "    ax.set_xticks(np.sort(r_d[\"response_range\"]))\n",
    "    ax.set_xticklabels(\n",
    "        [\n",
    "            round(\n",
    "                stats[independent_variable][\"std\"]\n",
    "                * (stats[independent_variable][\"mu\"] + chc)\n",
    "            )\n",
    "            for chc in r_d[\"question_choices\"]\n",
    "        ],\n",
    "        rotation=90,\n",
    "    )\n",
    "    ax.legend()\n",
    "    ax.set_ylim(-0.1)\n",
    "    ax.set_xlim(-0.1)\n",
    "# plt.savefig(\"sig_sum_uses.png\")\n",
    "plt.show()"
   ]
  },
  {
   "cell_type": "code",
   "execution_count": 22,
   "metadata": {},
   "outputs": [
    {
     "name": "stdout",
     "output_type": "stream",
     "text": [
      "                            OLS Regression Results                            \n",
      "==============================================================================\n",
      "Dep. Variable:                  Q19_4   R-squared:                       0.667\n",
      "Model:                            OLS   Adj. R-squared:                  0.664\n",
      "Method:                 Least Squares   F-statistic:                     208.3\n",
      "Date:                Tue, 08 Jan 2019   Prob (F-statistic):          2.78e-240\n",
      "Time:                        12:34:05   Log-Likelihood:                -1868.3\n",
      "No. Observations:                1050   AIC:                             3757.\n",
      "Df Residuals:                    1040   BIC:                             3806.\n",
      "Df Model:                          10                                         \n",
      "Covariance Type:            nonrobust                                         \n",
      "=====================================================================================\n",
      "                        coef    std err          t      P>|t|      [0.025      0.975]\n",
      "-------------------------------------------------------------------------------------\n",
      "Q30                   0.0759      0.045      1.680      0.093      -0.013       0.165\n",
      "Q33                   0.0605      0.050      1.203      0.229      -0.038       0.159\n",
      "Q36                   0.0470      0.051      0.915      0.361      -0.054       0.148\n",
      "Q41                   0.3492      0.050      7.042      0.000       0.252       0.446\n",
      "Q35_Male              1.0013      0.087     11.469      0.000       0.830       1.173\n",
      "Q39_Rural             0.9147      0.113      8.091      0.000       0.693       1.137\n",
      "Q39_Urban             1.0015      0.097     10.305      0.000       0.811       1.192\n",
      "Q42_ Independent      1.3085      0.106     12.323      0.000       1.100       1.517\n",
      "Q42_Other             1.5496      0.200      7.739      0.000       1.157       1.943\n",
      "Q42_Republican        1.6194      0.106     15.209      0.000       1.410       1.828\n",
      "==============================================================================\n",
      "Omnibus:                        8.573   Durbin-Watson:                   1.734\n",
      "Prob(Omnibus):                  0.014   Jarque-Bera (JB):                8.715\n",
      "Skew:                           0.214   Prob(JB):                       0.0128\n",
      "Kurtosis:                       2.876   Cond. No.                         5.56\n",
      "==============================================================================\n",
      "\n",
      "Warnings:\n",
      "[1] Standard Errors assume that the covariance matrix of the errors is correctly specified.\n"
     ]
    }
   ],
   "source": [
    "mod = sm.OLS(full_data_std[[dependent_variable]], full_data_std[features]).fit()\n",
    "mod = sm.OLS(full_data_std[[dependent_variable]], full_data_std[features]).fit()\n",
    "print(mod.summary())"
   ]
  },
  {
   "cell_type": "code",
   "execution_count": 23,
   "metadata": {},
   "outputs": [
    {
     "data": {
      "text/plain": [
       "array([ 0.82454836, -1.22099394, -0.70960836,  0.31316278,  1.33593393,\n",
       "       -0.19822279, -1.73237951,  2.35870508,  1.8473195 ])"
      ]
     },
     "execution_count": 23,
     "metadata": {},
     "output_type": "execute_result"
    }
   ],
   "source": [
    "full_data_std['Q33'].unique()"
   ]
  },
  {
   "cell_type": "code",
   "execution_count": null,
   "metadata": {},
   "outputs": [],
   "source": []
  },
  {
   "cell_type": "code",
   "execution_count": null,
   "metadata": {},
   "outputs": [],
   "source": []
  }
 ],
 "metadata": {
  "kernelspec": {
   "display_name": "Python 3",
   "language": "python",
   "name": "python3"
  },
  "language_info": {
   "codemirror_mode": {
    "name": "ipython",
    "version": 3
   },
   "file_extension": ".py",
   "mimetype": "text/x-python",
   "name": "python",
   "nbconvert_exporter": "python",
   "pygments_lexer": "ipython3",
   "version": "3.6.5"
  }
 },
 "nbformat": 4,
 "nbformat_minor": 2
}
