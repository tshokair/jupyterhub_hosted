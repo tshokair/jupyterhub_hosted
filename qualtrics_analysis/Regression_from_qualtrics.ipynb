{
 "cells": [
  {
   "cell_type": "code",
   "execution_count": null,
   "metadata": {},
   "outputs": [],
   "source": [
    "import matplotlib.pyplot as plt\n",
    "%matplotlib inline\n",
    "import numpy as np\n",
    "import os\n",
    "import pandas as pd\n",
    "import psycopg2\n",
    "import seaborn as sns\n",
    "\n",
    "sns.set_style(\"whitegrid\")\n",
    "import statsmodels.formula.api as sm\n",
    "from export_regression_lib import trained_model, odds_ratio, independent_variable_stats\n",
    "from export_regression_lib import (\n",
    "    standardized_features,\n",
    "    simulating_features,\n",
    "    simulate_continuous_outcomes,\n",
    ")"
   ]
  },
  {
   "cell_type": "markdown",
   "metadata": {},
   "source": [
    "# START HERE\n",
    "## The cell below contains all the mission specific data. Here you will specifity, the independent variables, the dependent variable, and the definitions of positive and negative outcome."
   ]
  },
  {
   "cell_type": "code",
   "execution_count": null,
   "metadata": {},
   "outputs": [],
   "source": [
    "# CHANGE THESE VALUES\n",
    "# ONLY USE SINGLE QUESTIONS FOR DEPENDENT AND INDEPENDENT VARIABLES IN FORMAT 'PART_NUM-QUESTION_NUM'\n",
    "continuous_independent_variables = [\n",
    "    \"Q30\", 'Q33', 'Q36', 'Q41'\n",
    "\n",
    "]\n",
    "# NOTE MULTIPLE QUESTIONS NEED TO BE CATEGORICAL\n",
    "categorical_independent_variables = ['Q39', 'Q42']\n",
    "#categorical_dict = {'Q39': 'Urban', 'Q42': 'Republican',  'Q43': 'Donald Trump'}\n",
    "categorical_dict = {}\n",
    "dependent_variable = \"Q19_4\"\n",
    "negative_outcomes = [\"3\",\"4\"]\n",
    "positive_outcomes = [\"1\",\"2\"]\n",
    "grouping = 'rid'\n",
    "\n",
    "data_file_name = 'data_files/hot_takes_data.csv'\n",
    "encoded_file_name = 'data_files/hot_takes_encoded.csv'"
   ]
  },
  {
   "cell_type": "markdown",
   "metadata": {},
   "source": [
    "# After entering the information above, go to Cell -> Run All to see your regression results"
   ]
  },
  {
   "cell_type": "code",
   "execution_count": null,
   "metadata": {},
   "outputs": [],
   "source": [
    "data = pd.read_csv(data_file_name).drop([0,1])\n",
    "encoded_data = pd.read_csv(encoded_file_name).drop([0,1])\n",
    "continuous_data = encoded_data[continuous_independent_variables + ['rid', dependent_variable]].dropna()\n",
    "for cat in categorical_independent_variables:\n",
    "    data[cat] = data[cat].str.replace(\"\\t\",\" \")\n",
    "for cont in continuous_independent_variables + [dependent_variable]:\n",
    "    continuous_data[cont] = continuous_data[cont].astype(int)"
   ]
  },
  {
   "cell_type": "code",
   "execution_count": null,
   "metadata": {},
   "outputs": [],
   "source": [
    "dep_var = (\n",
    "    pd.merge(\n",
    "        data[['rid',dependent_variable]],\n",
    "        encoded_data[['rid',dependent_variable]],\n",
    "        on='rid'\n",
    "    )\n",
    "    .rename(columns={dependent_variable+'_x': 'Value', dependent_variable+'_y':'Encoding','rid':'count'})\n",
    "    .groupby(['Value', 'Encoding'])\n",
    "    .count().reset_index()\n",
    ")\n",
    "dep_var"
   ]
  },
  {
   "cell_type": "code",
   "execution_count": null,
   "metadata": {},
   "outputs": [],
   "source": [
    "if categorical_dict:\n",
    "    pass\n",
    "else:\n",
    "    for f in categorical_independent_variables:\n",
    "        temp_grpd = data[['rid',f]].groupby(f).count().reset_index()\n",
    "        loc = temp_grpd['rid'].idxmax()\n",
    "        categorical_dict[f] = temp_grpd[f].iloc[loc]"
   ]
  },
  {
   "cell_type": "code",
   "execution_count": null,
   "metadata": {},
   "outputs": [],
   "source": [
    "def get_outcome(response, positive_outcomes, negative_outcomes):\n",
    "    if str(response) in positive_outcomes:\n",
    "        return 1\n",
    "    elif str(response) in negative_outcomes:\n",
    "        return 0\n",
    "    else:\n",
    "        return None"
   ]
  },
  {
   "cell_type": "code",
   "execution_count": null,
   "metadata": {},
   "outputs": [],
   "source": [
    "dummy_df = pd.DataFrame()\n",
    "for cat in categorical_independent_variables:\n",
    "    temp_dummy_df = pd.get_dummies(data[[\"rid\", cat]].dropna(), columns=[cat])\n",
    "    if len(dummy_df) > 0:\n",
    "        dummy_df = pd.merge(\n",
    "            dummy_df,\n",
    "            temp_dummy_df[\n",
    "                [\n",
    "                    col\n",
    "                    for col in list(temp_dummy_df)\n",
    "                    if not col.endswith(categorical_dict[cat])\n",
    "                ]\n",
    "            ],\n",
    "            on=\"rid\",\n",
    "        )\n",
    "    else:\n",
    "        dummy_df = temp_dummy_df[\n",
    "            [\n",
    "                col\n",
    "                for col in list(temp_dummy_df)\n",
    "                if not col.endswith(categorical_dict[cat])\n",
    "            ]\n",
    "        ]\n",
    "continuous_data['outcome'] = encoded_data.apply(\n",
    "    lambda row: get_outcome(row[dependent_variable], positive_outcomes, negative_outcomes),\n",
    "    axis=1\n",
    ")\n",
    "full_data = pd.merge(\n",
    "    continuous_data,\n",
    "    dummy_df,\n",
    "    on='rid'\n",
    ")\n",
    "features = [f for f in list(full_data) if f not in ['rid', 'outcome', dependent_variable]]\n",
    "categorical_features = [f for f in features if any([f.startswith(cf) for cf in categorical_independent_variables])]"
   ]
  },
  {
   "cell_type": "code",
   "execution_count": null,
   "metadata": {},
   "outputs": [],
   "source": [
    "full_data.corr()"
   ]
  },
  {
   "cell_type": "code",
   "execution_count": null,
   "metadata": {},
   "outputs": [],
   "source": [
    "full_data.groupby('outcome')['rid'].count().reset_index()"
   ]
  },
  {
   "cell_type": "code",
   "execution_count": null,
   "metadata": {},
   "outputs": [],
   "source": [
    "stats = independent_variable_stats(full_data, features)\n",
    "full_data_std = standardized_features(full_data, continuous_independent_variables, stats)\n",
    "len_pos = len(full_data_std[full_data_std['outcome'] == 1])\n",
    "len_neg = len(full_data_std[full_data_std['outcome'] == 0])\n",
    "sample_size = min(len_pos, len_neg)\n",
    "training = pd.concat([\n",
    "    full_data_std[full_data_std['outcome'] == 1].sample(n=sample_size),\n",
    "    full_data_std[full_data_std['outcome'] == 0].sample(n=sample_size)\n",
    "])\n",
    "model = trained_model(training[features], training[\"outcome\"])\n",
    "model = trained_model(training[features], training[\"outcome\"])"
   ]
  },
  {
   "cell_type": "code",
   "execution_count": null,
   "metadata": {},
   "outputs": [],
   "source": [
    "print(model.summary())\n",
    "sig_indicies = [i for i,p in enumerate(model.pvalues) if p <= .1]\n",
    "sig_variables = [\n",
    "        features[i]\n",
    "        for i, col in enumerate(features)\n",
    "        if i in sig_indicies\n",
    "]\n",
    "print(\"\")\n",
    "print(\"ODDS RATIOS~~~~~~~~~~~~~~~~~~~~~~~~~~\")\n",
    "print(odds_ratio(model, sig_variables, sig_indicies))"
   ]
  },
  {
   "cell_type": "code",
   "execution_count": null,
   "metadata": {},
   "outputs": [],
   "source": [
    "sns.set_style(\"whitegrid\")\n",
    "a4_dims = (11.7, 8.27)\n",
    "fig, ax = plt.subplots(figsize=a4_dims)\n",
    "simulated_features = simulating_features(full_data_std, features)\n",
    "sig_indicies = [i for i, p in enumerate(model.pvalues) if p <= 0.10]\n",
    "sig_variables = [\n",
    "    features[i]\n",
    "    for i, col in enumerate(features)\n",
    "    if i in sig_indicies and col not in categorical_features\n",
    "]\n",
    "for independent_variable in sig_variables:\n",
    "    outcome_labels = [\"negative\", \"positive\"]\n",
    "    outcome_choices = [0, 1]\n",
    "    r_d = simulate_continuous_outcomes(\n",
    "        simulated_features, model, features, independent_variable\n",
    "    )\n",
    "    ax.scatter(\n",
    "        r_d[\"response_range\"],\n",
    "        r_d[\"predictions\"],\n",
    "        label=independent_variable[0:20] + \"...\",\n",
    "    )\n",
    "    ax.set_ylabel(\"Prediction\")\n",
    "    ax.set_xlabel(independent_variable)\n",
    "    ax.set_yticks(np.sort(outcome_choices))\n",
    "    ax.set_yticklabels(\n",
    "        [\n",
    "            str(outcome) + \" \" + choice\n",
    "            for outcome, choice in zip(outcome_choices, outcome_labels)\n",
    "        ]\n",
    "    )\n",
    "    ax.set_xticks(np.sort(r_d[\"response_range\"]))\n",
    "    ax.set_xticklabels(\n",
    "        [\n",
    "            round(\n",
    "                stats[independent_variable][\"std\"]\n",
    "                * (stats[independent_variable][\"mu\"] + chc)\n",
    "            )\n",
    "            for chc in r_d[\"question_choices\"]\n",
    "        ],\n",
    "        rotation=90,\n",
    "    )\n",
    "    ax.legend()\n",
    "    ax.set_ylim(-0.1)\n",
    "    ax.set_xlim(-0.1)\n",
    "# plt.savefig(\"sig_sum_uses.png\")\n",
    "plt.show()"
   ]
  },
  {
   "cell_type": "code",
   "execution_count": null,
   "metadata": {},
   "outputs": [],
   "source": [
    "sns.set_style(\"whitegrid\")\n",
    "a4_dims = (11.7, 8.27)\n",
    "fig, ax = plt.subplots(figsize=a4_dims)\n",
    "simulated_features = simulating_features(full_data_std, features)\n",
    "sig_indicies = [i for i, p in enumerate(model.pvalues) if p <= 0.10]\n",
    "sig_variables = [\n",
    "    features[i]\n",
    "    for i, col in enumerate(features)\n",
    "    if i in sig_indicies and col in categorical_features\n",
    "]\n",
    "for independent_variable in sig_variables:\n",
    "    outcome_labels = [\"negative\", \"positive\"]\n",
    "    outcome_choices = [0, 1]\n",
    "    r_d = simulate_continuous_outcomes(\n",
    "        simulated_features, model, features, independent_variable\n",
    "    )\n",
    "    ax.scatter(\n",
    "        r_d[\"response_range\"],\n",
    "        r_d[\"predictions\"],\n",
    "        label=independent_variable[0:20] + \"...\",\n",
    "    )\n",
    "    ax.set_ylabel(\"Prediction\")\n",
    "    ax.set_xlabel(independent_variable)\n",
    "    ax.set_yticks(np.sort(outcome_choices))\n",
    "    ax.set_yticklabels(\n",
    "        [\n",
    "            str(outcome) + \" \" + choice\n",
    "            for outcome, choice in zip(outcome_choices, outcome_labels)\n",
    "        ]\n",
    "    )\n",
    "    ax.set_xticks(np.sort(r_d[\"response_range\"]))\n",
    "    ax.set_xticklabels(\n",
    "        [\n",
    "            round(\n",
    "                stats[independent_variable][\"std\"]\n",
    "                * (stats[independent_variable][\"mu\"] + chc)\n",
    "            )\n",
    "            for chc in r_d[\"question_choices\"]\n",
    "        ],\n",
    "        rotation=90,\n",
    "    )\n",
    "    ax.legend()\n",
    "    ax.set_ylim(-0.1)\n",
    "    ax.set_xlim(-0.1)\n",
    "# plt.savefig(\"sig_sum_uses.png\")\n",
    "plt.show()"
   ]
  },
  {
   "cell_type": "code",
   "execution_count": null,
   "metadata": {},
   "outputs": [],
   "source": [
    "mod = sm.OLS(full_data_std[[dependent_variable]], full_data_std[features]).fit()\n",
    "mod = sm.OLS(full_data_std[[dependent_variable]], full_data_std[features]).fit()\n",
    "print(mod.summary())"
   ]
  },
  {
   "cell_type": "code",
   "execution_count": null,
   "metadata": {},
   "outputs": [],
   "source": []
  }
 ],
 "metadata": {
  "kernelspec": {
   "display_name": "Python 3",
   "language": "python",
   "name": "python3"
  },
  "language_info": {
   "codemirror_mode": {
    "name": "ipython",
    "version": 3
   },
   "file_extension": ".py",
   "mimetype": "text/x-python",
   "name": "python",
   "nbconvert_exporter": "python",
   "pygments_lexer": "ipython3",
   "version": "3.7.0"
  }
 },
 "nbformat": 4,
 "nbformat_minor": 2
}
